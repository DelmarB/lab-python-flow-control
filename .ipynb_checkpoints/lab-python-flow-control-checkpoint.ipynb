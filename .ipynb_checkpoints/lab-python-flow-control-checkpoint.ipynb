{
 "cells": [
  {
   "cell_type": "markdown",
   "id": "d3bfc191-8885-42ee-b0a0-bbab867c6f9f",
   "metadata": {
    "tags": []
   },
   "source": [
    "# Lab | Flow Control"
   ]
  },
  {
   "cell_type": "markdown",
   "id": "3851fcd1-cf98-4653-9c89-e003b7ec9400",
   "metadata": {},
   "source": [
    "## Exercise: Managing Customer Orders Optimized\n",
    "\n",
    "In the last lab, you were starting an online store that sells various products. To ensure smooth operations, you developed a program that manages customer orders and inventory.\n",
    "\n",
    "You did so without using flow control. Let's go a step further and improve this code.\n",
    "\n",
    "Follow the steps below to complete the exercise:\n",
    "\n",
    "1. Look at your code from the lab data structures, and improve repeated code with loops.\n",
    "\n",
    "2. Instead of asking the user to input the name of three products that a customer wants to order, do the following:\n",
    "    \n",
    "    a. Prompt the user to enter the name of a product that a customer wants to order.\n",
    "    \n",
    "    b. Add the product name to the \"customer_orders\" set.\n",
    "    \n",
    "    c. Ask the user if they want to add another product (yes/no).\n",
    "    \n",
    "    d. Continue the loop until the user does not want to add another product.\n",
    "\n",
    "3. Instead of updating the inventory by subtracting 1 from the quantity of each product, only do it for  the products that were ordered (those in \"customer_orders\")."
   ]
  },
  {
   "cell_type": "code",
   "execution_count": 1,
   "id": "693516d1-d22f-4348-ac98-7b909720407d",
   "metadata": {},
   "outputs": [],
   "source": [
    "#1\n",
    "products = [\"t-shirt\", \"mug\", \"hat\", \"book\", \"keychain\"]\n"
   ]
  },
  {
   "cell_type": "code",
   "execution_count": 2,
   "id": "e455eb7a-db74-46c9-af9d-e1fede1b0f4a",
   "metadata": {},
   "outputs": [],
   "source": [
    "#2\n",
    "inventory = {}"
   ]
  },
  {
   "cell_type": "code",
   "execution_count": 3,
   "id": "42fa2591-5232-44d3-b9ae-5f37c7f99f2c",
   "metadata": {},
   "outputs": [
    {
     "name": "stdin",
     "output_type": "stream",
     "text": [
      "Add an amount for t-shirt 10\n",
      "Add an amount for mug 10\n",
      "Add an amount for hat 10\n",
      "Add an amount for book 10\n",
      "Add an amount for keychain 10\n"
     ]
    }
   ],
   "source": [
    "#3\n",
    "for prod in products:\n",
    "    #print(prod)\n",
    "    amount = int(input(f\"Add an amount for {prod}\"))\n",
    "    inventory[prod] = amount\n"
   ]
  },
  {
   "cell_type": "code",
   "execution_count": 4,
   "id": "59d0abb5-361e-4ce4-8123-cba6ab5bddb6",
   "metadata": {},
   "outputs": [],
   "source": [
    "# 4\n",
    "customer_orders=set()"
   ]
  },
  {
   "cell_type": "code",
   "execution_count": 5,
   "id": "624794f5-aa54-46c4-9dc3-996d630a2dca",
   "metadata": {},
   "outputs": [
    {
     "name": "stdin",
     "output_type": "stream",
     "text": [
      "Add a product (t-shirt, mug, hat, book or keychain) that a customer wants to order:  mug\n",
      "Do you want to add another product? (yes/no):  yes\n",
      "Add a product (t-shirt, mug, hat, book or keychain) that you want to order, type no to finish:  hat\n",
      "Do you want to add another product? (yes/no):  yes\n",
      "Add a product (t-shirt, mug, hat, book or keychain) that you want to order, type no to finish:  book\n",
      "Do you want to add another product? (yes/no):  no\n"
     ]
    }
   ],
   "source": [
    "# 5\n",
    "customer_input = input(\"Add a product (t-shirt, mug, hat, book or keychain) that a customer wants to order: \")\n",
    "while customer_input != \"no\":\n",
    "    customer_orders.add(customer_input)\n",
    "    \n",
    "    customer_input = input(\"Do you want to add another product? (yes/no): \")\n",
    "    if customer_input == \"yes\":\n",
    "        customer_input = input(\"Add a product (t-shirt, mug, hat, book or keychain) that you want to order, type no to finish: \")\n",
    "    elif customer_input != \"no\":\n",
    "        break\n",
    "    "
   ]
  },
  {
   "cell_type": "code",
   "execution_count": 6,
   "id": "b3f122a3-930c-48d0-8fd6-4f32fee15511",
   "metadata": {},
   "outputs": [
    {
     "name": "stdout",
     "output_type": "stream",
     "text": [
      "customer_order: {'mug', 'book', 'hat'}\n"
     ]
    }
   ],
   "source": [
    "#6\n",
    "print(f\"customer_order: {customer_orders}\")"
   ]
  },
  {
   "cell_type": "code",
   "execution_count": 7,
   "id": "9e66443d-410e-4693-8184-4a88a14384d3",
   "metadata": {},
   "outputs": [],
   "source": [
    "#7\n",
    "\n",
    "Total_Products_ordered = len(customer_orders)\n",
    "Percentage_of_Products_Ordered = (Total_Products_ordered / 5) * 100\n",
    "order_status = (Total_Products_ordered, Percentage_of_Products_Ordered)"
   ]
  },
  {
   "cell_type": "code",
   "execution_count": 8,
   "id": "77faf5b9-6e5b-4217-a114-0d56cf25a89b",
   "metadata": {},
   "outputs": [
    {
     "name": "stdout",
     "output_type": "stream",
     "text": [
      "Orders Statistics:\n",
      "Total Products Ordered: 3\n",
      "Percentage of Products Ordered: 60.0 %\n"
     ]
    }
   ],
   "source": [
    "#8\n",
    "print(\"Orders Statistics:\")\n",
    "print(f\"Total Products Ordered: {order_status[0]}\")\n",
    "print(f\"Percentage of Products Ordered: {order_status[1]} %\")"
   ]
  },
  {
   "cell_type": "code",
   "execution_count": 9,
   "id": "794bc579-f6bf-4f3f-a805-0025d2e855ff",
   "metadata": {},
   "outputs": [
    {
     "name": "stdout",
     "output_type": "stream",
     "text": [
      "{'t-shirt': 10, 'mug': 9, 'hat': 9, 'book': 9, 'keychain': 10}\n"
     ]
    }
   ],
   "source": [
    "#9 \n",
    "for order_prod in customer_orders:\n",
    "    inventory[order_prod] -= 1\n",
    "    \n",
    "print(inventory)"
   ]
  },
  {
   "cell_type": "code",
   "execution_count": 10,
   "id": "cb42abd1-921c-4b59-89a7-d2b77dc4406f",
   "metadata": {
    "scrolled": true
   },
   "outputs": [
    {
     "name": "stdout",
     "output_type": "stream",
     "text": [
      "t-shirt: 10\n",
      "mug: 9\n",
      "hat: 9\n",
      "book: 9\n",
      "keychain: 10\n"
     ]
    }
   ],
   "source": [
    "#10\n",
    "for key, value in inventory.items():\n",
    "    print(f\"{key}: {value}\")"
   ]
  },
  {
   "cell_type": "code",
   "execution_count": null,
   "id": "512bb063-6753-4e8f-b1cb-ea6c4a4f956b",
   "metadata": {},
   "outputs": [],
   "source": []
  }
 ],
 "metadata": {
  "kernelspec": {
   "display_name": "Python 3 (ipykernel)",
   "language": "python",
   "name": "python3"
  },
  "language_info": {
   "codemirror_mode": {
    "name": "ipython",
    "version": 3
   },
   "file_extension": ".py",
   "mimetype": "text/x-python",
   "name": "python",
   "nbconvert_exporter": "python",
   "pygments_lexer": "ipython3",
   "version": "3.12.7"
  }
 },
 "nbformat": 4,
 "nbformat_minor": 5
}
